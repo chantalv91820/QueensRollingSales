{
  "cells": [
    {
      "cell_type": "code",
      "execution_count": null,
      "metadata": {
        "id": "kRlLUfm5kv2j"
      },
      "outputs": [],
      "source": [
        "#connect to google drive\n",
        "from google.colab import drive\n",
        "drive.mount('/content/gdrive')"
      ]
    },
    {
      "cell_type": "code",
      "execution_count": null,
      "metadata": {
        "id": "NHiRzmqXXae6"
      },
      "outputs": [],
      "source": [
        "#installs\n",
        "!pip install azure-storage-blob\n",
        "!pip install boto3\n",
        "!pip install google-cloud-storage\n",
        "!pip install pyarrow"
      ]
    },
    {
      "cell_type": "code",
      "execution_count": 6,
      "metadata": {
        "id": "Tc2hCxfbHJHy"
      },
      "outputs": [],
      "source": [
        "#import libraries\n",
        "\n",
        "import pandas as pd\n",
        "import numpy as np\n",
        "import json\n",
        "import requests\n",
        "import boto3\n",
        "from azure.storage.blob import BlobServiceClient, BlobClient, ContainerClient\n",
        "from google.cloud import storage\n",
        "from io import StringIO"
      ]
    },
    {
      "cell_type": "code",
      "execution_count": 14,
      "metadata": {
        "id": "-1lM3IBu4Nm9"
      },
      "outputs": [],
      "source": [
        "# Azure Functions\n",
        "def azure_upload_blob(connect_str, container_name, blob_name, data):\n",
        "    blob_service_client = BlobServiceClient.from_connection_string(connect_str)\n",
        "    blob_client = blob_service_client.get_blob_client(container=container_name, blob=blob_name)\n",
        "    blob_client.upload_blob(data, overwrite=True)\n",
        "    print(f\"Uploaded to Azure Blob: {blob_name}\")\n",
        "\n",
        "def azure_download_blob(connect_str, container_name, blob_name):\n",
        "    blob_service_client = BlobServiceClient.from_connection_string(connect_str)\n",
        "    blob_client = blob_service_client.get_blob_client(container=container_name, blob=blob_name)\n",
        "    download_stream = blob_client.download_blob()\n",
        "    return download_stream.readall()"
      ]
    },
    {
      "cell_type": "code",
      "execution_count": null,
      "metadata": {
        "id": "SJk6n__dJmR_"
      },
      "outputs": [],
      "source": [
        "#read file\n",
        "df_raw = pd.read_excel(r'/content/gdrive/My Drive/Queens Rolling Sales 2022/Queens_Rolling_2022.xlsx')\n",
        "df_raw.head()\n",
        "print(df_raw.columns)"
      ]
    },
    {
      "cell_type": "code",
      "execution_count": null,
      "metadata": {
        "id": "O-dcJVXUmiCu"
      },
      "outputs": [],
      "source": [
        "#display data\n",
        "display(pd.DataFrame(df_raw))"
      ]
    },
    {
      "cell_type": "code",
      "execution_count": null,
      "metadata": {
        "id": "vgMgTpQh6Z2j"
      },
      "outputs": [],
      "source": [
        "#data types\n",
        "df_raw.info()"
      ]
    },
    {
      "cell_type": "code",
      "execution_count": 12,
      "metadata": {
        "id": "CHtlsLNZ66yO"
      },
      "outputs": [],
      "source": [
        "df_cleaned = df_raw.copy()"
      ]
    },
    {
      "cell_type": "code",
      "execution_count": null,
      "metadata": {
        "id": "vsaOJCJl6-2E"
      },
      "outputs": [],
      "source": [
        "df_cleaned = df_raw.drop(columns = ['EASE-MENT'])\n",
        "df_cleaned = df_raw[df_raw['PRICE PER SQUARE FOOT'] != 0]\n",
        "df_cleaned = df_raw[df_raw['PRICE PER SQUARE FOOT'] != '#DIV/0!']\n",
        "#display(pd.DataFrame(df_cleaned))\n",
        "df_cleaned.info()"
      ]
    },
    {
      "cell_type": "code",
      "execution_count": 31,
      "metadata": {
        "colab": {
          "base_uri": "https://localhost:8080/"
        },
        "id": "-eTpjZBQ8wNA",
        "outputId": "92d7d3d9-f398-4746-e11d-2a948e1aeefe"
      },
      "outputs": [
        {
          "name": "stdout",
          "output_type": "stream",
          "text": [
            "Uploaded queensrollingsales_20240402.csv to Azure Blob Storage in container queensrollingsales.\n"
          ]
        }
      ],
      "source": [
        "#specify the path to your JSON configuration file\n",
        "config_file_path = \"config.json\"\n",
        "\n",
        "#load with JSON configuration file\n",
        "with open(config_file_path, 'r') as config_file:\n",
        "    config = json.load(config_file)\n",
        "\n",
        "CONNECTION_STRING_AZURE_STORAGE = config[\"connectionString\"]\n",
        "CONTAINER_AZURE = 'queensrollingsales'\n",
        "blob_name = \"queensrollingsales_20240402.csv\"\n",
        "\n",
        "#covert Dataframe to csv\n",
        "output = StringIO()\n",
        "df_raw.to_csv(output, index=False)\n",
        "data = output.getvalue()\n",
        "output.close()\n",
        "\n",
        "#create the blobservice client object\n",
        "blob_service_client = BlobServiceClient.from_connection_string(CONNECTION_STRING_AZURE_STORAGE)\n",
        "\n",
        "#get a blob client using the container and blob name\n",
        "blob_client = blob_service_client.get_blob_client(container=CONTAINER_AZURE,blob=blob_name)\n",
        "\n",
        "#upload the csv data to Azure Cloud\n",
        "blob_client.upload_blob(data, overwrite=True)\n",
        "\n",
        "print(f\"Uploaded {blob_name} to Azure Blob Storage in container {CONTAINER_AZURE}.\")"
      ]
    },
    {
      "cell_type": "markdown",
      "metadata": {
        "id": "BsLow6W_dQ9Y"
      },
      "source": []
    }
  ],
  "metadata": {
    "colab": {
      "provenance": []
    },
    "kernelspec": {
      "display_name": "Python 3",
      "name": "python3"
    },
    "language_info": {
      "name": "python"
    }
  },
  "nbformat": 4,
  "nbformat_minor": 0
}
