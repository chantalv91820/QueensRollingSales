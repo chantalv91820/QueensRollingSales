{
  "nbformat": 4,
  "nbformat_minor": 0,
  "metadata": {
    "colab": {
      "provenance": []
    },
    "kernelspec": {
      "name": "python3",
      "display_name": "Python 3"
    },
    "language_info": {
      "name": "python"
    }
  },
  "cells": [
    {
      "cell_type": "code",
      "source": [
        "#connect to google drive\n",
        "from google.colab import drive\n",
        "drive.mount('/content/gdrive')"
      ],
      "metadata": {
        "id": "kRlLUfm5kv2j"
      },
      "execution_count": null,
      "outputs": []
    },
    {
      "cell_type": "code",
      "source": [
        "#installs\n",
        "!pip install azure-storage-blob\n",
        "!pip install boto3\n",
        "!pip install google-cloud-storage\n",
        "!pip install pyarrow"
      ],
      "metadata": {
        "id": "NHiRzmqXXae6"
      },
      "execution_count": null,
      "outputs": []
    },
    {
      "cell_type": "code",
      "execution_count": 6,
      "metadata": {
        "id": "Tc2hCxfbHJHy"
      },
      "outputs": [],
      "source": [
        "#import libraries\n",
        "\n",
        "import pandas as pd\n",
        "import numpy as np\n",
        "import json\n",
        "import requests\n",
        "import boto3\n",
        "from azure.storage.blob import BlobServiceClient, BlobClient, ContainerClient\n",
        "from google.cloud import storage\n",
        "from io import StringIO"
      ]
    },
    {
      "cell_type": "code",
      "source": [
        "# Azure Functions\n",
        "def azure_upload_blob(connect_str, container_name, blob_name, data):\n",
        "    blob_service_client = BlobServiceClient.from_connection_string(connect_str)\n",
        "    blob_client = blob_service_client.get_blob_client(container=container_name, blob=blob_name)\n",
        "    blob_client.upload_blob(data, overwrite=True)\n",
        "    print(f\"Uploaded to Azure Blob: {blob_name}\")\n",
        "\n",
        "def azure_download_blob(connect_str, container_name, blob_name):\n",
        "    blob_service_client = BlobServiceClient.from_connection_string(connect_str)\n",
        "    blob_client = blob_service_client.get_blob_client(container=container_name, blob=blob_name)\n",
        "    download_stream = blob_client.download_blob()\n",
        "    return download_stream.readall()"
      ],
      "metadata": {
        "id": "-1lM3IBu4Nm9"
      },
      "execution_count": 14,
      "outputs": []
    },
    {
      "cell_type": "code",
      "source": [
        "#read file\n",
        "df_raw = pd.read_excel(r'/content/gdrive/My Drive/Queens Rolling Sales 2022/Queens_Rolling_2022.xlsx')\n",
        "df_raw.head()\n",
        "print(df_raw.columns)"
      ],
      "metadata": {
        "id": "SJk6n__dJmR_"
      },
      "execution_count": null,
      "outputs": []
    },
    {
      "cell_type": "code",
      "source": [
        "#display data\n",
        "display(pd.DataFrame(df_raw))"
      ],
      "metadata": {
        "id": "O-dcJVXUmiCu"
      },
      "execution_count": null,
      "outputs": []
    },
    {
      "cell_type": "code",
      "source": [
        "#data types\n",
        "df_raw.info()"
      ],
      "metadata": {
        "id": "vgMgTpQh6Z2j"
      },
      "execution_count": null,
      "outputs": []
    },
    {
      "cell_type": "code",
      "source": [
        "df_cleaned = df_raw.copy()"
      ],
      "metadata": {
        "id": "CHtlsLNZ66yO"
      },
      "execution_count": 12,
      "outputs": []
    },
    {
      "cell_type": "code",
      "source": [
        "df_cleaned = df_raw.drop(columns = ['EASE-MENT'])\n",
        "df_cleaned = df_raw[df_raw['PRICE PER SQUARE FOOT'] != 0]\n",
        "df_cleaned = df_raw[df_raw['PRICE PER SQUARE FOOT'] != '#DIV/0!']\n",
        "#display(pd.DataFrame(df_cleaned))\n",
        "df_cleaned.info()"
      ],
      "metadata": {
        "id": "vsaOJCJl6-2E"
      },
      "execution_count": null,
      "outputs": []
    },
    {
      "cell_type": "code",
      "source": [
        "#specify the path to your JSON configuration file\n",
        "config_file_path = \"config.json\"\n",
        "\n",
        "#load with JSON configuration file\n",
        "with open(config_file_path, 'r') as config_file:\n",
        "    config = json.load(config_file)\n",
        "\n",
        "CONNECTION_STRING_AZURE_STORAGE = config[\"connectionString\"]\n",
        "CONTAINER_AZURE = 'queensrollingsales'\n",
        "blob_name = \"queensrollingsales_20240402.csv\"\n",
        "\n",
        "#covert Dataframe to csv\n",
        "output = StringIO()\n",
        "df_raw.to_csv(output, index=False)\n",
        "data = output.getvalue()\n",
        "output.close()\n",
        "\n",
        "#create the blobservice client object\n",
        "blob_service_client = BlobServiceClient.from_connection_string(CONNECTION_STRING_AZURE_STORAGE)\n",
        "\n",
        "#get a blob client using the container and blob name\n",
        "blob_client = blob_service_client.get_blob_client(container=CONTAINER_AZURE,blob=blob_name)\n",
        "\n",
        "#upload the csv data to Azure Cloud\n",
        "blob_client.upload_blob(data, overwrite=True)\n",
        "\n",
        "print(f\"Uploaded {blob_name} to Azure Blob Storage in container {CONTAINER_AZURE}.\")"
      ],
      "metadata": {
        "colab": {
          "base_uri": "https://localhost:8080/"
        },
        "id": "-eTpjZBQ8wNA",
        "outputId": "92d7d3d9-f398-4746-e11d-2a948e1aeefe"
      },
      "execution_count": 31,
      "outputs": [
        {
          "output_type": "stream",
          "name": "stdout",
          "text": [
            "Uploaded queensrollingsales_20240402.csv to Azure Blob Storage in container queensrollingsales.\n"
          ]
        }
      ]
    },
    {
      "cell_type": "markdown",
      "source": [],
      "metadata": {
        "id": "BsLow6W_dQ9Y"
      }
    }
  ]
}